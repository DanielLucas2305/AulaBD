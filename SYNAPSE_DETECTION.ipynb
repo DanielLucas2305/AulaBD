{
  "nbformat": 4,
  "nbformat_minor": 0,
  "metadata": {
    "colab": {
      "provenance": [],
      "gpuType": "T4",
      "include_colab_link": true
    },
    "kernelspec": {
      "name": "python3",
      "display_name": "Python 3"
    },
    "language_info": {
      "name": "python"
    },
    "accelerator": "GPU"
  },
  "cells": [
    {
      "cell_type": "markdown",
      "metadata": {
        "id": "view-in-github",
        "colab_type": "text"
      },
      "source": [
        "<a href=\"https://colab.research.google.com/github/DanielLucas2305/AulaBD/blob/main/SYNAPSE_DETECTION.ipynb\" target=\"_parent\"><img src=\"https://colab.research.google.com/assets/colab-badge.svg\" alt=\"Open In Colab\"/></a>"
      ]
    },
    {
      "cell_type": "code",
      "source": [
        "from google.colab import drive\n",
        "drive.mount('/content/drive')"
      ],
      "metadata": {
        "colab": {
          "base_uri": "https://localhost:8080/"
        },
        "id": "NzgqY7ESe2lr",
        "outputId": "f7e12346-bfa1-4c61-9ea2-8cb142ed641c"
      },
      "execution_count": null,
      "outputs": [
        {
          "output_type": "stream",
          "name": "stdout",
          "text": [
            "Mounted at /content/drive\n"
          ]
        }
      ]
    },
    {
      "cell_type": "code",
      "source": [
        "import zipfile\n",
        "import os\n",
        "\n",
        "def descompactar_zip(caminho_zip, diretorio_destino):\n",
        "    try:\n",
        "        with zipfile.ZipFile(caminho_zip, 'r') as zip_ref:\n",
        "            zip_ref.extractall(diretorio_destino)\n",
        "        print(\"Arquivo ZIP descompactado com sucesso.\")\n",
        "    except Exception as e:\n",
        "        print(\"Ocorreu um erro ao descompactar o arquivo ZIP:\", e)\n",
        "\n",
        "caminho_zip = '/content/drive/MyDrive/SYNAPSE/pc_parts.zip'\n",
        "diretorio_destino = '/content'\n",
        "\n",
        "descompactar_zip(caminho_zip, diretorio_destino)"
      ],
      "metadata": {
        "colab": {
          "base_uri": "https://localhost:8080/"
        },
        "id": "gqI6EHUbsLfK",
        "outputId": "e8dc85eb-4c80-4197-fc02-dbe216ca0baf"
      },
      "execution_count": null,
      "outputs": [
        {
          "output_type": "stream",
          "name": "stdout",
          "text": [
            "Arquivo ZIP descompactado com sucesso.\n"
          ]
        }
      ]
    },
    {
      "cell_type": "code",
      "execution_count": null,
      "metadata": {
        "colab": {
          "base_uri": "https://localhost:8080/"
        },
        "id": "mtRwtUOaTILZ",
        "outputId": "5bab319c-b013-4332-9dd3-7ee14edd5449"
      },
      "outputs": [
        {
          "output_type": "stream",
          "name": "stdout",
          "text": [
            "Collecting ultralytics\n",
            "  Downloading ultralytics-8.1.29-py3-none-any.whl (721 kB)\n",
            "\u001b[2K     \u001b[90m━━━━━━━━━━━━━━━━━━━━━━━━━━━━━━━━━━━━━━━━\u001b[0m \u001b[32m721.3/721.3 kB\u001b[0m \u001b[31m4.2 MB/s\u001b[0m eta \u001b[36m0:00:00\u001b[0m\n",
            "\u001b[?25hRequirement already satisfied: matplotlib>=3.3.0 in /usr/local/lib/python3.10/dist-packages (from ultralytics) (3.7.1)\n",
            "Requirement already satisfied: opencv-python>=4.6.0 in /usr/local/lib/python3.10/dist-packages (from ultralytics) (4.8.0.76)\n",
            "Requirement already satisfied: pillow>=7.1.2 in /usr/local/lib/python3.10/dist-packages (from ultralytics) (9.4.0)\n",
            "Requirement already satisfied: pyyaml>=5.3.1 in /usr/local/lib/python3.10/dist-packages (from ultralytics) (6.0.1)\n",
            "Requirement already satisfied: requests>=2.23.0 in /usr/local/lib/python3.10/dist-packages (from ultralytics) (2.31.0)\n",
            "Requirement already satisfied: scipy>=1.4.1 in /usr/local/lib/python3.10/dist-packages (from ultralytics) (1.11.4)\n",
            "Requirement already satisfied: torch>=1.8.0 in /usr/local/lib/python3.10/dist-packages (from ultralytics) (2.2.1+cu121)\n",
            "Requirement already satisfied: torchvision>=0.9.0 in /usr/local/lib/python3.10/dist-packages (from ultralytics) (0.17.1+cu121)\n",
            "Requirement already satisfied: tqdm>=4.64.0 in /usr/local/lib/python3.10/dist-packages (from ultralytics) (4.66.2)\n",
            "Requirement already satisfied: psutil in /usr/local/lib/python3.10/dist-packages (from ultralytics) (5.9.5)\n",
            "Requirement already satisfied: py-cpuinfo in /usr/local/lib/python3.10/dist-packages (from ultralytics) (9.0.0)\n",
            "Collecting thop>=0.1.1 (from ultralytics)\n",
            "  Downloading thop-0.1.1.post2209072238-py3-none-any.whl (15 kB)\n",
            "Requirement already satisfied: pandas>=1.1.4 in /usr/local/lib/python3.10/dist-packages (from ultralytics) (1.5.3)\n",
            "Requirement already satisfied: seaborn>=0.11.0 in /usr/local/lib/python3.10/dist-packages (from ultralytics) (0.13.1)\n",
            "Requirement already satisfied: contourpy>=1.0.1 in /usr/local/lib/python3.10/dist-packages (from matplotlib>=3.3.0->ultralytics) (1.2.0)\n",
            "Requirement already satisfied: cycler>=0.10 in /usr/local/lib/python3.10/dist-packages (from matplotlib>=3.3.0->ultralytics) (0.12.1)\n",
            "Requirement already satisfied: fonttools>=4.22.0 in /usr/local/lib/python3.10/dist-packages (from matplotlib>=3.3.0->ultralytics) (4.49.0)\n",
            "Requirement already satisfied: kiwisolver>=1.0.1 in /usr/local/lib/python3.10/dist-packages (from matplotlib>=3.3.0->ultralytics) (1.4.5)\n",
            "Requirement already satisfied: numpy>=1.20 in /usr/local/lib/python3.10/dist-packages (from matplotlib>=3.3.0->ultralytics) (1.25.2)\n",
            "Requirement already satisfied: packaging>=20.0 in /usr/local/lib/python3.10/dist-packages (from matplotlib>=3.3.0->ultralytics) (24.0)\n",
            "Requirement already satisfied: pyparsing>=2.3.1 in /usr/local/lib/python3.10/dist-packages (from matplotlib>=3.3.0->ultralytics) (3.1.2)\n",
            "Requirement already satisfied: python-dateutil>=2.7 in /usr/local/lib/python3.10/dist-packages (from matplotlib>=3.3.0->ultralytics) (2.8.2)\n",
            "Requirement already satisfied: pytz>=2020.1 in /usr/local/lib/python3.10/dist-packages (from pandas>=1.1.4->ultralytics) (2023.4)\n",
            "Requirement already satisfied: charset-normalizer<4,>=2 in /usr/local/lib/python3.10/dist-packages (from requests>=2.23.0->ultralytics) (3.3.2)\n",
            "Requirement already satisfied: idna<4,>=2.5 in /usr/local/lib/python3.10/dist-packages (from requests>=2.23.0->ultralytics) (3.6)\n",
            "Requirement already satisfied: urllib3<3,>=1.21.1 in /usr/local/lib/python3.10/dist-packages (from requests>=2.23.0->ultralytics) (2.0.7)\n",
            "Requirement already satisfied: certifi>=2017.4.17 in /usr/local/lib/python3.10/dist-packages (from requests>=2.23.0->ultralytics) (2024.2.2)\n",
            "Requirement already satisfied: filelock in /usr/local/lib/python3.10/dist-packages (from torch>=1.8.0->ultralytics) (3.13.1)\n",
            "Requirement already satisfied: typing-extensions>=4.8.0 in /usr/local/lib/python3.10/dist-packages (from torch>=1.8.0->ultralytics) (4.10.0)\n",
            "Requirement already satisfied: sympy in /usr/local/lib/python3.10/dist-packages (from torch>=1.8.0->ultralytics) (1.12)\n",
            "Requirement already satisfied: networkx in /usr/local/lib/python3.10/dist-packages (from torch>=1.8.0->ultralytics) (3.2.1)\n",
            "Requirement already satisfied: jinja2 in /usr/local/lib/python3.10/dist-packages (from torch>=1.8.0->ultralytics) (3.1.3)\n",
            "Requirement already satisfied: fsspec in /usr/local/lib/python3.10/dist-packages (from torch>=1.8.0->ultralytics) (2023.6.0)\n",
            "Collecting nvidia-cuda-nvrtc-cu12==12.1.105 (from torch>=1.8.0->ultralytics)\n",
            "  Downloading nvidia_cuda_nvrtc_cu12-12.1.105-py3-none-manylinux1_x86_64.whl (23.7 MB)\n",
            "\u001b[2K     \u001b[90m━━━━━━━━━━━━━━━━━━━━━━━━━━━━━━━━━━━━━━━━\u001b[0m \u001b[32m23.7/23.7 MB\u001b[0m \u001b[31m21.1 MB/s\u001b[0m eta \u001b[36m0:00:00\u001b[0m\n",
            "\u001b[?25hCollecting nvidia-cuda-runtime-cu12==12.1.105 (from torch>=1.8.0->ultralytics)\n",
            "  Downloading nvidia_cuda_runtime_cu12-12.1.105-py3-none-manylinux1_x86_64.whl (823 kB)\n",
            "\u001b[2K     \u001b[90m━━━━━━━━━━━━━━━━━━━━━━━━━━━━━━━━━━━━━━━━\u001b[0m \u001b[32m823.6/823.6 kB\u001b[0m \u001b[31m62.9 MB/s\u001b[0m eta \u001b[36m0:00:00\u001b[0m\n",
            "\u001b[?25hCollecting nvidia-cuda-cupti-cu12==12.1.105 (from torch>=1.8.0->ultralytics)\n",
            "  Downloading nvidia_cuda_cupti_cu12-12.1.105-py3-none-manylinux1_x86_64.whl (14.1 MB)\n",
            "\u001b[2K     \u001b[90m━━━━━━━━━━━━━━━━━━━━━━━━━━━━━━━━━━━━━━━━\u001b[0m \u001b[32m14.1/14.1 MB\u001b[0m \u001b[31m30.9 MB/s\u001b[0m eta \u001b[36m0:00:00\u001b[0m\n",
            "\u001b[?25hCollecting nvidia-cudnn-cu12==8.9.2.26 (from torch>=1.8.0->ultralytics)\n",
            "  Downloading nvidia_cudnn_cu12-8.9.2.26-py3-none-manylinux1_x86_64.whl (731.7 MB)\n",
            "\u001b[2K     \u001b[91m━━━━━━━━\u001b[0m\u001b[91m╸\u001b[0m\u001b[90m━━━━━━━━━━━━━━━━━━━━━━━━━━━━━━━\u001b[0m \u001b[32m163.6/731.7 MB\u001b[0m \u001b[31m626.0 kB/s\u001b[0m eta \u001b[36m0:15:08\u001b[0m"
          ]
        }
      ],
      "source": [
        "!pip install ultralytics"
      ]
    },
    {
      "cell_type": "code",
      "source": [
        "!yolo task=detect \\\n",
        "mode=train \\\n",
        "model=yolov8s.pt \\\n",
        "data=/content/YOLO_format/data.yaml \\\n",
        "epochs=4 \\\n",
        "imgsz=640"
      ],
      "metadata": {
        "id": "niZxw2aybg1X"
      },
      "execution_count": null,
      "outputs": []
    },
    {
      "cell_type": "code",
      "source": [
        "import random\n",
        "import cv2\n",
        "import numpy as np\n",
        "from ultralytics import YOLO\n",
        "import matplotlib.pyplot as plt\n",
        "import requests\n",
        "import base64\n",
        "\n",
        "\n",
        "my_file = open(\"/content/detection.txt\", \"r\")\n",
        "data = my_file.read()\n",
        "class_list = data.split(\"\\n\")\n",
        "my_file.close()\n",
        "\n",
        "detection_colors = []\n",
        "for i in range(len(class_list)):\n",
        "    r = random.randint(0, 255)\n",
        "    g = random.randint(0, 255)\n",
        "    b = random.randint(0, 255)\n",
        "    detection_colors.append((b, g, r))\n",
        "\n",
        "model = YOLO(\"/content/deteccionModel.pt\", \"v8\")\n",
        "\n",
        "def carregar_imagem(url_imagem):\n",
        "    if url_imagem.startswith('data:image'):\n",
        "\n",
        "        imagem_bytes = base64.b64decode(url_imagem.split(\",\")[1])\n",
        "        imagem_array = np.frombuffer(imagem_bytes, np.uint8)\n",
        "        imagem = cv2.imdecode(imagem_array, cv2.IMREAD_COLOR)\n",
        "    else:\n",
        "        resposta = requests.get(url_imagem)\n",
        "        imagem_bytes = np.frombuffer(resposta.content, np.uint8)\n",
        "        imagem = cv2.imdecode(imagem_bytes, cv2.IMREAD_COLOR)\n",
        "    return imagem\n",
        "\n",
        "\n",
        "url_imagem = \"data:image/jpeg;base64,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\"\n",
        "\n",
        "imagem = carregar_imagem(url_imagem)\n",
        "\n",
        "detect_params = model.predict(source=[imagem], conf=0.30, save=False)\n",
        "\n",
        "DP = detect_params[0].cpu().numpy()\n",
        "\n",
        "if len(DP) != 0:\n",
        "    for i in range(len(detect_params[0])):\n",
        "        box = detect_params[0].boxes[i]\n",
        "        clsID = box.cls.cpu().numpy()[0]\n",
        "        conf = box.conf.cpu().numpy()[0]\n",
        "\n",
        "        if conf > 0.70:\n",
        "            bb = box.xyxy.cpu().numpy()[0]\n",
        "\n",
        "            cv2.rectangle(\n",
        "                imagem,\n",
        "                (int(bb[0]), int(bb[1])),\n",
        "                (int(bb[2]), int(bb[3])),\n",
        "                detection_colors[int(clsID)],\n",
        "                3,\n",
        "            )\n",
        "\n",
        "            font = cv2.FONT_HERSHEY_COMPLEX\n",
        "            cv2.putText(\n",
        "                imagem,\n",
        "                f\"{class_list[int(clsID)]} {str(round(conf * 100, 2))}%\",\n",
        "                (int(bb[0]), int(bb[1]) - 10),\n",
        "                font,\n",
        "                1,\n",
        "                (255, 255, 255),\n",
        "                2,\n",
        "            )\n",
        "\n",
        "nome_arquivo_salvo = \"imagem.jpg\"\n",
        "cv2.imwrite(nome_arquivo_salvo, imagem)\n",
        "print(f\"Imagem salva como {nome_arquivo_salvo}.\")\n",
        "\n",
        "imagem = cv2.cvtColor(imagem, cv2.COLOR_BGR2RGB)\n",
        "plt.imshow(imagem)\n",
        "plt.axis('off')\n",
        "plt.show()\n"
      ],
      "metadata": {
        "id": "cyjVk2WOAPkx"
      },
      "execution_count": null,
      "outputs": []
    },
    {
      "cell_type": "markdown",
      "source": [],
      "metadata": {
        "id": "NFdGg6gBC6of"
      }
    }
  ]
}